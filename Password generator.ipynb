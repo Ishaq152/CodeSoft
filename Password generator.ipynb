{
 "cells": [
  {
   "cell_type": "code",
   "execution_count": 3,
   "metadata": {},
   "outputs": [
    {
     "name": "stdout",
     "output_type": "stream",
     "text": [
      "Enter the length of your desired password6\n",
      "fIbiVU\n",
      "67d~SN\n"
     ]
    }
   ],
   "source": [
    "import secrets\n",
    "import string\n",
    "\n",
    "letters = string.ascii_letters\n",
    "digits = string.digits\n",
    "special_chars = string.punctuation\n",
    "\n",
    "comb = letters + digits + special_chars\n",
    "\n",
    "my_pwd_length = input(\"Enter the length of your desired password\")\n",
    "pwd_length = int(my_pwd_length)\n",
    "\n",
    "pwd = ''\n",
    "for i in range(pwd_length):\n",
    "  pwd += ''.join(secrets.choice(comb))\n",
    "\n",
    "print(pwd)\n",
    "\n",
    "while True:\n",
    "  pwd = ''\n",
    "  for i in range(pwd_length):\n",
    "    pwd += ''.join(secrets.choice(comb))\n",
    "\n",
    "  if (any(char in special_chars for char in pwd) and \n",
    "      sum(char in digits for char in pwd)>=2):\n",
    "          break\n",
    "print(pwd)"
   ]
  },
  {
   "cell_type": "code",
   "execution_count": null,
   "metadata": {},
   "outputs": [],
   "source": []
  },
  {
   "cell_type": "code",
   "execution_count": null,
   "metadata": {},
   "outputs": [],
   "source": []
  },
  {
   "cell_type": "code",
   "execution_count": null,
   "metadata": {},
   "outputs": [],
   "source": []
  },
  {
   "cell_type": "code",
   "execution_count": null,
   "metadata": {},
   "outputs": [],
   "source": []
  },
  {
   "cell_type": "code",
   "execution_count": null,
   "metadata": {},
   "outputs": [],
   "source": []
  },
  {
   "cell_type": "code",
   "execution_count": null,
   "metadata": {},
   "outputs": [],
   "source": []
  },
  {
   "cell_type": "code",
   "execution_count": null,
   "metadata": {},
   "outputs": [],
   "source": []
  }
 ],
 "metadata": {
  "kernelspec": {
   "display_name": "Python 3",
   "language": "python",
   "name": "python3"
  },
  "language_info": {
   "codemirror_mode": {
    "name": "ipython",
    "version": 3
   },
   "file_extension": ".py",
   "mimetype": "text/x-python",
   "name": "python",
   "nbconvert_exporter": "python",
   "pygments_lexer": "ipython3",
   "version": "3.7.6"
  }
 },
 "nbformat": 4,
 "nbformat_minor": 4
}
